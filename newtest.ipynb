{
 "cells": [
  {
   "cell_type": "code",
   "execution_count": 3,
   "metadata": {},
   "outputs": [
    {
     "name": "stderr",
     "output_type": "stream",
     "text": [
      "C:\\Users\\internr\\AppData\\Local\\Temp\\ipykernel_22616\\4146142875.py:16: SettingWithCopyWarning: \n",
      "A value is trying to be set on a copy of a slice from a DataFrame.\n",
      "Try using .loc[row_indexer,col_indexer] = value instead\n",
      "\n",
      "See the caveats in the documentation: https://pandas.pydata.org/pandas-docs/stable/user_guide/indexing.html#returning-a-view-versus-a-copy\n",
      "  less_than_10_total['BUSINESS_DATE'] = pd.to_datetime('today').strftime('%d/%m/%y')\n"
     ]
    },
    {
     "ename": "KeyboardInterrupt",
     "evalue": "",
     "output_type": "error",
     "traceback": [
      "\u001b[1;31m---------------------------------------------------------------------------\u001b[0m",
      "\u001b[1;31mKeyboardInterrupt\u001b[0m                         Traceback (most recent call last)",
      "Cell \u001b[1;32mIn[3], line 44\u001b[0m\n\u001b[0;32m     41\u001b[0m result_text\u001b[38;5;241m.\u001b[39mpack(pady\u001b[38;5;241m=\u001b[39m\u001b[38;5;241m10\u001b[39m)\n\u001b[0;32m     42\u001b[0m result_text\u001b[38;5;241m.\u001b[39mconfig(state\u001b[38;5;241m=\u001b[39mtk\u001b[38;5;241m.\u001b[39mDISABLED)\n\u001b[1;32m---> 44\u001b[0m window\u001b[38;5;241m.\u001b[39mmainloop()\n",
      "File \u001b[1;32mc:\\Users\\internr\\AppData\\Local\\anaconda3\\Lib\\tkinter\\__init__.py:1485\u001b[0m, in \u001b[0;36mMisc.mainloop\u001b[1;34m(self, n)\u001b[0m\n\u001b[0;32m   1483\u001b[0m \u001b[38;5;28;01mdef\u001b[39;00m \u001b[38;5;21mmainloop\u001b[39m(\u001b[38;5;28mself\u001b[39m, n\u001b[38;5;241m=\u001b[39m\u001b[38;5;241m0\u001b[39m):\n\u001b[0;32m   1484\u001b[0m \u001b[38;5;250m    \u001b[39m\u001b[38;5;124;03m\"\"\"Call the mainloop of Tk.\"\"\"\u001b[39;00m\n\u001b[1;32m-> 1485\u001b[0m     \u001b[38;5;28mself\u001b[39m\u001b[38;5;241m.\u001b[39mtk\u001b[38;5;241m.\u001b[39mmainloop(n)\n",
      "\u001b[1;31mKeyboardInterrupt\u001b[0m: "
     ]
    },
    {
     "ename": "",
     "evalue": "",
     "output_type": "error",
     "traceback": [
      "\u001b[1;31mThe Kernel crashed while executing code in the current cell or a previous cell. \n",
      "\u001b[1;31mPlease review the code in the cell(s) to identify a possible cause of the failure. \n",
      "\u001b[1;31mClick <a href='https://aka.ms/vscodeJupyterKernelCrash'>here</a> for more info. \n",
      "\u001b[1;31mView Jupyter <a href='command:jupyter.viewOutput'>log</a> for further details."
     ]
    }
   ],
   "source": [
    "import tkinter as tk\n",
    "from tkinter import filedialog\n",
    "import pandas as pd\n",
    "\n",
    "def upload_excel():\n",
    "    file_path = filedialog.askopenfilename(filetypes=[(\"Excel files\", \"*.xlsx;*.xls\")])\n",
    "    if file_path:\n",
    "        df = pd.read_excel(file_path)\n",
    "        update_dates(df)\n",
    "\n",
    "def update_dates(df):\n",
    "    # Filter rows where 'NO_OF_ROOMS1' is less than 10 and 'MARKET_CODE' is 'Total'\n",
    "    less_than_10_total = df[(df['NO_OF_ROOMS1'] < 10)  & (df['MARKET_CODE'] == 'Total')]\n",
    "\n",
    "    # Update 'BUSINESS_DATE' for filtered rows\n",
    "    less_than_10_total['BUSINESS_DATE'] = pd.to_datetime('today').strftime('%d/%m/%y')\n",
    "\n",
    "    # Display the updated DataFrame\n",
    "    if not less_than_10_total.empty:\n",
    "        result_text.config(state=tk.NORMAL)\n",
    "        result_text.delete('1.0', tk.END)\n",
    "        result_text.insert(tk.END, \"Dates where NO_OF_ROOMS1 < 10 in Total:\\n\")\n",
    "        result_text.insert(tk.END, less_than_10_total['BUSINESS_DATE'].unique())\n",
    "        result_text.config(state=tk.DISABLED)\n",
    "    else:\n",
    "        result_text.config(state=tk.NORMAL)\n",
    "        result_text.delete('1.0', tk.END)\n",
    "        result_text.insert(tk.END, \"No dates found where NO_OF_ROOMS1 < 10 in Total.\")\n",
    "        result_text.config(state=tk.DISABLED)\n",
    "\n",
    "# Create GUI window\n",
    "window = tk.Tk()\n",
    "window.title(\"Excel Analyzer\")\n",
    "\n",
    "# Add upload button\n",
    "upload_button = tk.Button(window, text=\"Upload Excel\", command=upload_excel)\n",
    "upload_button.pack(pady=10)\n",
    "\n",
    "# Add text widget to display result\n",
    "result_text = tk.Text(window, height=10, width=50)\n",
    "result_text.pack(pady=10)\n",
    "result_text.config(state=tk.DISABLED)\n",
    "\n",
    "window.mainloop()\n"
   ]
  }
 ],
 "metadata": {
  "kernelspec": {
   "display_name": "base",
   "language": "python",
   "name": "python3"
  },
  "language_info": {
   "codemirror_mode": {
    "name": "ipython",
    "version": 3
   },
   "file_extension": ".py",
   "mimetype": "text/x-python",
   "name": "python",
   "nbconvert_exporter": "python",
   "pygments_lexer": "ipython3",
   "version": "3.11.7"
  }
 },
 "nbformat": 4,
 "nbformat_minor": 2
}
